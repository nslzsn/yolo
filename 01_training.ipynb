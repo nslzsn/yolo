{
  "nbformat": 4,
  "nbformat_minor": 0,
  "metadata": {
    "colab": {
      "provenance": [],
      "gpuType": "T4",
      "authorship_tag": "ABX9TyOVEoB5Nnwf/DV6YElcP/X5",
      "include_colab_link": true
    },
    "kernelspec": {
      "name": "python3",
      "display_name": "Python 3"
    },
    "language_info": {
      "name": "python"
    },
    "accelerator": "GPU"
  },
  "cells": [
    {
      "cell_type": "markdown",
      "metadata": {
        "id": "view-in-github",
        "colab_type": "text"
      },
      "source": [
        "<a href=\"https://colab.research.google.com/github/nslzsn/yolo/blob/main/YOLOv12.ipynb\" target=\"_parent\"><img src=\"https://colab.research.google.com/assets/colab-badge.svg\" alt=\"Open In Colab\"/></a>"
      ]
    },
    {
      "cell_type": "code",
      "execution_count": 2,
      "metadata": {
        "colab": {
          "base_uri": "https://localhost:8080/"
        },
        "collapsed": true,
        "id": "rBT_XvPiQWza",
        "outputId": "cfc72348-5dbe-4f02-88bb-11a89dd57c66"
      },
      "outputs": [
        {
          "output_type": "stream",
          "name": "stdout",
          "text": [
            "Collecting ultralytics\n",
            "  Using cached ultralytics-8.3.181-py3-none-any.whl.metadata (37 kB)\n",
            "Requirement already satisfied: numpy>=1.23.0 in /usr/local/lib/python3.11/dist-packages (from ultralytics) (2.0.2)\n",
            "Requirement already satisfied: matplotlib>=3.3.0 in /usr/local/lib/python3.11/dist-packages (from ultralytics) (3.10.0)\n",
            "Requirement already satisfied: opencv-python>=4.6.0 in /usr/local/lib/python3.11/dist-packages (from ultralytics) (4.12.0.88)\n",
            "Requirement already satisfied: pillow>=7.1.2 in /usr/local/lib/python3.11/dist-packages (from ultralytics) (11.3.0)\n",
            "Requirement already satisfied: pyyaml>=5.3.1 in /usr/local/lib/python3.11/dist-packages (from ultralytics) (6.0.2)\n",
            "Requirement already satisfied: requests>=2.23.0 in /usr/local/lib/python3.11/dist-packages (from ultralytics) (2.32.3)\n",
            "Requirement already satisfied: scipy>=1.4.1 in /usr/local/lib/python3.11/dist-packages (from ultralytics) (1.16.1)\n",
            "Requirement already satisfied: torch>=1.8.0 in /usr/local/lib/python3.11/dist-packages (from ultralytics) (2.6.0+cu124)\n",
            "Requirement already satisfied: torchvision>=0.9.0 in /usr/local/lib/python3.11/dist-packages (from ultralytics) (0.21.0+cu124)\n",
            "Requirement already satisfied: tqdm>=4.64.0 in /usr/local/lib/python3.11/dist-packages (from ultralytics) (4.67.1)\n",
            "Requirement already satisfied: psutil in /usr/local/lib/python3.11/dist-packages (from ultralytics) (5.9.5)\n",
            "Requirement already satisfied: py-cpuinfo in /usr/local/lib/python3.11/dist-packages (from ultralytics) (9.0.0)\n",
            "Requirement already satisfied: pandas>=1.1.4 in /usr/local/lib/python3.11/dist-packages (from ultralytics) (2.2.2)\n",
            "Collecting ultralytics-thop>=2.0.0 (from ultralytics)\n",
            "  Using cached ultralytics_thop-2.0.15-py3-none-any.whl.metadata (14 kB)\n",
            "Requirement already satisfied: contourpy>=1.0.1 in /usr/local/lib/python3.11/dist-packages (from matplotlib>=3.3.0->ultralytics) (1.3.3)\n",
            "Requirement already satisfied: cycler>=0.10 in /usr/local/lib/python3.11/dist-packages (from matplotlib>=3.3.0->ultralytics) (0.12.1)\n",
            "Requirement already satisfied: fonttools>=4.22.0 in /usr/local/lib/python3.11/dist-packages (from matplotlib>=3.3.0->ultralytics) (4.59.0)\n",
            "Requirement already satisfied: kiwisolver>=1.3.1 in /usr/local/lib/python3.11/dist-packages (from matplotlib>=3.3.0->ultralytics) (1.4.9)\n",
            "Requirement already satisfied: packaging>=20.0 in /usr/local/lib/python3.11/dist-packages (from matplotlib>=3.3.0->ultralytics) (25.0)\n",
            "Requirement already satisfied: pyparsing>=2.3.1 in /usr/local/lib/python3.11/dist-packages (from matplotlib>=3.3.0->ultralytics) (3.2.3)\n",
            "Requirement already satisfied: python-dateutil>=2.7 in /usr/local/lib/python3.11/dist-packages (from matplotlib>=3.3.0->ultralytics) (2.9.0.post0)\n",
            "Requirement already satisfied: pytz>=2020.1 in /usr/local/lib/python3.11/dist-packages (from pandas>=1.1.4->ultralytics) (2025.2)\n",
            "Requirement already satisfied: tzdata>=2022.7 in /usr/local/lib/python3.11/dist-packages (from pandas>=1.1.4->ultralytics) (2025.2)\n",
            "Requirement already satisfied: charset-normalizer<4,>=2 in /usr/local/lib/python3.11/dist-packages (from requests>=2.23.0->ultralytics) (3.4.3)\n",
            "Requirement already satisfied: idna<4,>=2.5 in /usr/local/lib/python3.11/dist-packages (from requests>=2.23.0->ultralytics) (3.10)\n",
            "Requirement already satisfied: urllib3<3,>=1.21.1 in /usr/local/lib/python3.11/dist-packages (from requests>=2.23.0->ultralytics) (2.5.0)\n",
            "Requirement already satisfied: certifi>=2017.4.17 in /usr/local/lib/python3.11/dist-packages (from requests>=2.23.0->ultralytics) (2025.8.3)\n",
            "Requirement already satisfied: filelock in /usr/local/lib/python3.11/dist-packages (from torch>=1.8.0->ultralytics) (3.18.0)\n",
            "Requirement already satisfied: typing-extensions>=4.10.0 in /usr/local/lib/python3.11/dist-packages (from torch>=1.8.0->ultralytics) (4.14.1)\n",
            "Requirement already satisfied: networkx in /usr/local/lib/python3.11/dist-packages (from torch>=1.8.0->ultralytics) (3.5)\n",
            "Requirement already satisfied: jinja2 in /usr/local/lib/python3.11/dist-packages (from torch>=1.8.0->ultralytics) (3.1.6)\n",
            "Requirement already satisfied: fsspec in /usr/local/lib/python3.11/dist-packages (from torch>=1.8.0->ultralytics) (2025.3.0)\n",
            "Collecting nvidia-cuda-nvrtc-cu12==12.4.127 (from torch>=1.8.0->ultralytics)\n",
            "  Using cached nvidia_cuda_nvrtc_cu12-12.4.127-py3-none-manylinux2014_x86_64.whl.metadata (1.5 kB)\n",
            "Collecting nvidia-cuda-runtime-cu12==12.4.127 (from torch>=1.8.0->ultralytics)\n",
            "  Using cached nvidia_cuda_runtime_cu12-12.4.127-py3-none-manylinux2014_x86_64.whl.metadata (1.5 kB)\n",
            "Collecting nvidia-cuda-cupti-cu12==12.4.127 (from torch>=1.8.0->ultralytics)\n",
            "  Using cached nvidia_cuda_cupti_cu12-12.4.127-py3-none-manylinux2014_x86_64.whl.metadata (1.6 kB)\n",
            "Collecting nvidia-cudnn-cu12==9.1.0.70 (from torch>=1.8.0->ultralytics)\n",
            "  Using cached nvidia_cudnn_cu12-9.1.0.70-py3-none-manylinux2014_x86_64.whl.metadata (1.6 kB)\n",
            "Collecting nvidia-cublas-cu12==12.4.5.8 (from torch>=1.8.0->ultralytics)\n",
            "  Using cached nvidia_cublas_cu12-12.4.5.8-py3-none-manylinux2014_x86_64.whl.metadata (1.5 kB)\n",
            "Collecting nvidia-cufft-cu12==11.2.1.3 (from torch>=1.8.0->ultralytics)\n",
            "  Using cached nvidia_cufft_cu12-11.2.1.3-py3-none-manylinux2014_x86_64.whl.metadata (1.5 kB)\n",
            "Collecting nvidia-curand-cu12==10.3.5.147 (from torch>=1.8.0->ultralytics)\n",
            "  Using cached nvidia_curand_cu12-10.3.5.147-py3-none-manylinux2014_x86_64.whl.metadata (1.5 kB)\n",
            "Collecting nvidia-cusolver-cu12==11.6.1.9 (from torch>=1.8.0->ultralytics)\n",
            "  Using cached nvidia_cusolver_cu12-11.6.1.9-py3-none-manylinux2014_x86_64.whl.metadata (1.6 kB)\n",
            "Collecting nvidia-cusparse-cu12==12.3.1.170 (from torch>=1.8.0->ultralytics)\n",
            "  Using cached nvidia_cusparse_cu12-12.3.1.170-py3-none-manylinux2014_x86_64.whl.metadata (1.6 kB)\n",
            "Requirement already satisfied: nvidia-cusparselt-cu12==0.6.2 in /usr/local/lib/python3.11/dist-packages (from torch>=1.8.0->ultralytics) (0.6.2)\n",
            "Collecting nvidia-nccl-cu12==2.21.5 (from torch>=1.8.0->ultralytics)\n",
            "  Using cached nvidia_nccl_cu12-2.21.5-py3-none-manylinux2014_x86_64.whl.metadata (1.8 kB)\n",
            "Requirement already satisfied: nvidia-nvtx-cu12==12.4.127 in /usr/local/lib/python3.11/dist-packages (from torch>=1.8.0->ultralytics) (12.4.127)\n",
            "Collecting nvidia-nvjitlink-cu12==12.4.127 (from torch>=1.8.0->ultralytics)\n",
            "  Using cached nvidia_nvjitlink_cu12-12.4.127-py3-none-manylinux2014_x86_64.whl.metadata (1.5 kB)\n",
            "Requirement already satisfied: triton==3.2.0 in /usr/local/lib/python3.11/dist-packages (from torch>=1.8.0->ultralytics) (3.2.0)\n",
            "Requirement already satisfied: sympy==1.13.1 in /usr/local/lib/python3.11/dist-packages (from torch>=1.8.0->ultralytics) (1.13.1)\n",
            "Requirement already satisfied: mpmath<1.4,>=1.1.0 in /usr/local/lib/python3.11/dist-packages (from sympy==1.13.1->torch>=1.8.0->ultralytics) (1.3.0)\n",
            "Requirement already satisfied: six>=1.5 in /usr/local/lib/python3.11/dist-packages (from python-dateutil>=2.7->matplotlib>=3.3.0->ultralytics) (1.17.0)\n",
            "Requirement already satisfied: MarkupSafe>=2.0 in /usr/local/lib/python3.11/dist-packages (from jinja2->torch>=1.8.0->ultralytics) (3.0.2)\n",
            "Using cached ultralytics-8.3.181-py3-none-any.whl (1.0 MB)\n",
            "Using cached nvidia_cublas_cu12-12.4.5.8-py3-none-manylinux2014_x86_64.whl (363.4 MB)\n",
            "Using cached nvidia_cuda_cupti_cu12-12.4.127-py3-none-manylinux2014_x86_64.whl (13.8 MB)\n",
            "Using cached nvidia_cuda_nvrtc_cu12-12.4.127-py3-none-manylinux2014_x86_64.whl (24.6 MB)\n",
            "Using cached nvidia_cuda_runtime_cu12-12.4.127-py3-none-manylinux2014_x86_64.whl (883 kB)\n",
            "Downloading nvidia_cudnn_cu12-9.1.0.70-py3-none-manylinux2014_x86_64.whl (664.8 MB)\n",
            "\u001b[2K   \u001b[90m━━━━━━━━━━━━━━━━━━━━━━━━━━━━━━━━━━━━━━━━\u001b[0m \u001b[32m664.8/664.8 MB\u001b[0m \u001b[31m2.1 MB/s\u001b[0m eta \u001b[36m0:00:00\u001b[0m\n",
            "\u001b[?25hDownloading nvidia_cufft_cu12-11.2.1.3-py3-none-manylinux2014_x86_64.whl (211.5 MB)\n",
            "\u001b[2K   \u001b[90m━━━━━━━━━━━━━━━━━━━━━━━━━━━━━━━━━━━━━━━━\u001b[0m \u001b[32m211.5/211.5 MB\u001b[0m \u001b[31m6.3 MB/s\u001b[0m eta \u001b[36m0:00:00\u001b[0m\n",
            "\u001b[?25hDownloading nvidia_curand_cu12-10.3.5.147-py3-none-manylinux2014_x86_64.whl (56.3 MB)\n",
            "\u001b[2K   \u001b[90m━━━━━━━━━━━━━━━━━━━━━━━━━━━━━━━━━━━━━━━━\u001b[0m \u001b[32m56.3/56.3 MB\u001b[0m \u001b[31m12.6 MB/s\u001b[0m eta \u001b[36m0:00:00\u001b[0m\n",
            "\u001b[?25hDownloading nvidia_cusolver_cu12-11.6.1.9-py3-none-manylinux2014_x86_64.whl (127.9 MB)\n",
            "\u001b[2K   \u001b[90m━━━━━━━━━━━━━━━━━━━━━━━━━━━━━━━━━━━━━━━━\u001b[0m \u001b[32m127.9/127.9 MB\u001b[0m \u001b[31m7.6 MB/s\u001b[0m eta \u001b[36m0:00:00\u001b[0m\n",
            "\u001b[?25hDownloading nvidia_cusparse_cu12-12.3.1.170-py3-none-manylinux2014_x86_64.whl (207.5 MB)\n",
            "\u001b[2K   \u001b[90m━━━━━━━━━━━━━━━━━━━━━━━━━━━━━━━━━━━━━━━━\u001b[0m \u001b[32m207.5/207.5 MB\u001b[0m \u001b[31m5.6 MB/s\u001b[0m eta \u001b[36m0:00:00\u001b[0m\n",
            "\u001b[?25hDownloading nvidia_nccl_cu12-2.21.5-py3-none-manylinux2014_x86_64.whl (188.7 MB)\n",
            "\u001b[2K   \u001b[90m━━━━━━━━━━━━━━━━━━━━━━━━━━━━━━━━━━━━━━━━\u001b[0m \u001b[32m188.7/188.7 MB\u001b[0m \u001b[31m5.9 MB/s\u001b[0m eta \u001b[36m0:00:00\u001b[0m\n",
            "\u001b[?25hDownloading nvidia_nvjitlink_cu12-12.4.127-py3-none-manylinux2014_x86_64.whl (21.1 MB)\n",
            "\u001b[2K   \u001b[90m━━━━━━━━━━━━━━━━━━━━━━━━━━━━━━━━━━━━━━━━\u001b[0m \u001b[32m21.1/21.1 MB\u001b[0m \u001b[31m107.0 MB/s\u001b[0m eta \u001b[36m0:00:00\u001b[0m\n",
            "\u001b[?25hDownloading ultralytics_thop-2.0.15-py3-none-any.whl (28 kB)\n",
            "Installing collected packages: nvidia-nvjitlink-cu12, nvidia-nccl-cu12, nvidia-curand-cu12, nvidia-cufft-cu12, nvidia-cuda-runtime-cu12, nvidia-cuda-nvrtc-cu12, nvidia-cuda-cupti-cu12, nvidia-cublas-cu12, nvidia-cusparse-cu12, nvidia-cudnn-cu12, nvidia-cusolver-cu12, ultralytics-thop, ultralytics\n",
            "  Attempting uninstall: nvidia-nvjitlink-cu12\n",
            "    Found existing installation: nvidia-nvjitlink-cu12 12.5.82\n",
            "    Uninstalling nvidia-nvjitlink-cu12-12.5.82:\n",
            "      Successfully uninstalled nvidia-nvjitlink-cu12-12.5.82\n",
            "  Attempting uninstall: nvidia-nccl-cu12\n",
            "    Found existing installation: nvidia-nccl-cu12 2.23.4\n",
            "    Uninstalling nvidia-nccl-cu12-2.23.4:\n",
            "      Successfully uninstalled nvidia-nccl-cu12-2.23.4\n",
            "  Attempting uninstall: nvidia-curand-cu12\n",
            "    Found existing installation: nvidia-curand-cu12 10.3.6.82\n",
            "    Uninstalling nvidia-curand-cu12-10.3.6.82:\n",
            "      Successfully uninstalled nvidia-curand-cu12-10.3.6.82\n",
            "  Attempting uninstall: nvidia-cufft-cu12\n",
            "    Found existing installation: nvidia-cufft-cu12 11.2.3.61\n",
            "    Uninstalling nvidia-cufft-cu12-11.2.3.61:\n",
            "      Successfully uninstalled nvidia-cufft-cu12-11.2.3.61\n",
            "  Attempting uninstall: nvidia-cuda-runtime-cu12\n",
            "    Found existing installation: nvidia-cuda-runtime-cu12 12.5.82\n",
            "    Uninstalling nvidia-cuda-runtime-cu12-12.5.82:\n",
            "      Successfully uninstalled nvidia-cuda-runtime-cu12-12.5.82\n",
            "  Attempting uninstall: nvidia-cuda-nvrtc-cu12\n",
            "    Found existing installation: nvidia-cuda-nvrtc-cu12 12.5.82\n",
            "    Uninstalling nvidia-cuda-nvrtc-cu12-12.5.82:\n",
            "      Successfully uninstalled nvidia-cuda-nvrtc-cu12-12.5.82\n",
            "  Attempting uninstall: nvidia-cuda-cupti-cu12\n",
            "    Found existing installation: nvidia-cuda-cupti-cu12 12.5.82\n",
            "    Uninstalling nvidia-cuda-cupti-cu12-12.5.82:\n",
            "      Successfully uninstalled nvidia-cuda-cupti-cu12-12.5.82\n",
            "  Attempting uninstall: nvidia-cublas-cu12\n",
            "    Found existing installation: nvidia-cublas-cu12 12.5.3.2\n",
            "    Uninstalling nvidia-cublas-cu12-12.5.3.2:\n",
            "      Successfully uninstalled nvidia-cublas-cu12-12.5.3.2\n",
            "  Attempting uninstall: nvidia-cusparse-cu12\n",
            "    Found existing installation: nvidia-cusparse-cu12 12.5.1.3\n",
            "    Uninstalling nvidia-cusparse-cu12-12.5.1.3:\n",
            "      Successfully uninstalled nvidia-cusparse-cu12-12.5.1.3\n",
            "  Attempting uninstall: nvidia-cudnn-cu12\n",
            "    Found existing installation: nvidia-cudnn-cu12 9.3.0.75\n",
            "    Uninstalling nvidia-cudnn-cu12-9.3.0.75:\n",
            "      Successfully uninstalled nvidia-cudnn-cu12-9.3.0.75\n",
            "  Attempting uninstall: nvidia-cusolver-cu12\n",
            "    Found existing installation: nvidia-cusolver-cu12 11.6.3.83\n",
            "    Uninstalling nvidia-cusolver-cu12-11.6.3.83:\n",
            "      Successfully uninstalled nvidia-cusolver-cu12-11.6.3.83\n",
            "Successfully installed nvidia-cublas-cu12-12.4.5.8 nvidia-cuda-cupti-cu12-12.4.127 nvidia-cuda-nvrtc-cu12-12.4.127 nvidia-cuda-runtime-cu12-12.4.127 nvidia-cudnn-cu12-9.1.0.70 nvidia-cufft-cu12-11.2.1.3 nvidia-curand-cu12-10.3.5.147 nvidia-cusolver-cu12-11.6.1.9 nvidia-cusparse-cu12-12.3.1.170 nvidia-nccl-cu12-2.21.5 nvidia-nvjitlink-cu12-12.4.127 ultralytics-8.3.181 ultralytics-thop-2.0.15\n"
          ]
        }
      ],
      "source": [
        "!pip install ultralytics"
      ]
    },
    {
      "cell_type": "code",
      "source": [
        "!curl -L \"https://ultralytics.com/assets/coco128.zip\" -o coco128.zip\n",
        "!unzip coco128.zip\n"
      ],
      "metadata": {
        "colab": {
          "base_uri": "https://localhost:8080/"
        },
        "collapsed": true,
        "id": "T01ZsoYNSGBD",
        "outputId": "4ea1ef24-db10-4486-87d6-edb2cadf99c9"
      },
      "execution_count": 3,
      "outputs": [
        {
          "output_type": "stream",
          "name": "stdout",
          "text": [
            "  % Total    % Received % Xferd  Average Speed   Time    Time     Time  Current\n",
            "                                 Dload  Upload   Total   Spent    Left  Speed\n",
            "100   166  100   166    0     0    654      0 --:--:-- --:--:-- --:--:--   653\n",
            "100   166  100   166    0     0    331      0 --:--:-- --:--:-- --:--:--   331\n",
            "  0     0    0     0    0     0      0      0 --:--:-- --:--:-- --:--:--     0\n",
            "100 6819k  100 6819k    0     0  6031k      0  0:00:01  0:00:01 --:--:-- 6031k\n",
            "Archive:  coco128.zip\n",
            "   creating: coco128/\n",
            "  inflating: coco128/LICENSE         \n",
            "   creating: coco128/images/\n",
            "   creating: coco128/images/train2017/\n",
            "  inflating: coco128/images/train2017/000000000612.jpg  \n",
            "  inflating: coco128/images/train2017/000000000404.jpg  \n",
            "  inflating: coco128/images/train2017/000000000438.jpg  \n",
            "  inflating: coco128/images/train2017/000000000389.jpg  \n",
            "  inflating: coco128/images/train2017/000000000564.jpg  \n",
            "  inflating: coco128/images/train2017/000000000149.jpg  \n",
            "  inflating: coco128/images/train2017/000000000605.jpg  \n",
            "  inflating: coco128/images/train2017/000000000349.jpg  \n",
            "  inflating: coco128/images/train2017/000000000201.jpg  \n",
            "  inflating: coco128/images/train2017/000000000599.jpg  \n",
            "  inflating: coco128/images/train2017/000000000572.jpg  \n",
            "  inflating: coco128/images/train2017/000000000360.jpg  \n",
            "  inflating: coco128/images/train2017/000000000370.jpg  \n",
            "  inflating: coco128/images/train2017/000000000562.jpg  \n",
            "  inflating: coco128/images/train2017/000000000589.jpg  \n",
            "  inflating: coco128/images/train2017/000000000359.jpg  \n",
            "  inflating: coco128/images/train2017/000000000629.jpg  \n",
            "  inflating: coco128/images/train2017/000000000165.jpg  \n",
            "  inflating: coco128/images/train2017/000000000415.jpg  \n",
            "  inflating: coco128/images/train2017/000000000575.jpg  \n",
            "  inflating: coco128/images/train2017/000000000560.jpg  \n",
            "  inflating: coco128/images/train2017/000000000400.jpg  \n",
            "  inflating: coco128/images/train2017/000000000428.jpg  \n",
            "  inflating: coco128/images/train2017/000000000164.jpg  \n",
            "  inflating: coco128/images/train2017/000000000315.jpg  \n",
            "  inflating: coco128/images/train2017/000000000077.jpg  \n",
            "  inflating: coco128/images/train2017/000000000089.jpg  \n",
            "  inflating: coco128/images/train2017/000000000260.jpg  \n",
            "  inflating: coco128/images/train2017/000000000328.jpg  \n",
            "  inflating: coco128/images/train2017/000000000472.jpg  \n",
            "  inflating: coco128/images/train2017/000000000510.jpg  \n",
            "  inflating: coco128/images/train2017/000000000074.jpg  \n",
            "  inflating: coco128/images/train2017/000000000049.jpg  \n",
            "  inflating: coco128/images/train2017/000000000061.jpg  \n",
            "  inflating: coco128/images/train2017/000000000263.jpg  \n",
            "  inflating: coco128/images/train2017/000000000459.jpg  \n",
            "  inflating: coco128/images/train2017/000000000471.jpg  \n",
            "  inflating: coco128/images/train2017/000000000307.jpg  \n",
            "  inflating: coco128/images/train2017/000000000529.jpg  \n",
            "  inflating: coco128/images/train2017/000000000071.jpg  \n",
            "  inflating: coco128/images/train2017/000000000064.jpg  \n",
            "  inflating: coco128/images/train2017/000000000514.jpg  \n",
            "  inflating: coco128/images/train2017/000000000474.jpg  \n",
            "  inflating: coco128/images/train2017/000000000312.jpg  \n",
            "  inflating: coco128/images/train2017/000000000110.jpg  \n",
            "  inflating: coco128/images/train2017/000000000138.jpg  \n",
            "  inflating: coco128/images/train2017/000000000338.jpg  \n",
            "  inflating: coco128/images/train2017/000000000502.jpg  \n",
            "  inflating: coco128/images/train2017/000000000072.jpg  \n",
            "  inflating: coco128/images/train2017/000000000073.jpg  \n",
            "  inflating: coco128/images/train2017/000000000488.jpg  \n",
            "  inflating: coco128/images/train2017/000000000113.jpg  \n",
            "  inflating: coco128/images/train2017/000000000136.jpg  \n",
            "  inflating: coco128/images/train2017/000000000650.jpg  \n",
            "  inflating: coco128/images/train2017/000000000446.jpg  \n",
            "  inflating: coco128/images/train2017/000000000308.jpg  \n",
            "  inflating: coco128/images/train2017/000000000491.jpg  \n",
            "  inflating: coco128/images/train2017/000000000532.jpg  \n",
            "  inflating: coco128/images/train2017/000000000283.jpg  \n",
            "  inflating: coco128/images/train2017/000000000042.jpg  \n",
            "  inflating: coco128/images/train2017/000000000081.jpg  \n",
            "  inflating: coco128/images/train2017/000000000094.jpg  \n",
            "  inflating: coco128/images/train2017/000000000241.jpg  \n",
            "  inflating: coco128/images/train2017/000000000490.jpg  \n",
            "  inflating: coco128/images/train2017/000000000309.jpg  \n",
            "  inflating: coco128/images/train2017/000000000321.jpg  \n",
            "  inflating: coco128/images/train2017/000000000109.jpg  \n",
            "  inflating: coco128/images/train2017/000000000486.jpg  \n",
            "  inflating: coco128/images/train2017/000000000531.jpg  \n",
            "  inflating: coco128/images/train2017/000000000257.jpg  \n",
            "  inflating: coco128/images/train2017/000000000294.jpg  \n",
            "  inflating: coco128/images/train2017/000000000450.jpg  \n",
            "  inflating: coco128/images/train2017/000000000322.jpg  \n",
            "  inflating: coco128/images/train2017/000000000326.jpg  \n",
            "  inflating: coco128/images/train2017/000000000332.jpg  \n",
            "  inflating: coco128/images/train2017/000000000508.jpg  \n",
            "  inflating: coco128/images/train2017/000000000520.jpg  \n",
            "  inflating: coco128/images/train2017/000000000078.jpg  \n",
            "  inflating: coco128/images/train2017/000000000086.jpg  \n",
            "  inflating: coco128/images/train2017/000000000092.jpg  \n",
            "  inflating: coco128/images/train2017/000000000247.jpg  \n",
            "  inflating: coco128/images/train2017/000000000643.jpg  \n",
            "  inflating: coco128/images/train2017/000000000133.jpg  \n",
            "  inflating: coco128/images/train2017/000000000127.jpg  \n",
            "  inflating: coco128/images/train2017/000000000641.jpg  \n",
            "  inflating: coco128/images/train2017/000000000443.jpg  \n",
            "  inflating: coco128/images/train2017/000000000536.jpg  \n",
            "  inflating: coco128/images/train2017/000000000250.jpg  \n",
            "  inflating: coco128/images/train2017/000000000196.jpg  \n",
            "  inflating: coco128/images/train2017/000000000357.jpg  \n",
            "  inflating: coco128/images/train2017/000000000431.jpg  \n",
            "  inflating: coco128/images/train2017/000000000419.jpg  \n",
            "  inflating: coco128/images/train2017/000000000394.jpg  \n",
            "  inflating: coco128/images/train2017/000000000009.jpg  \n",
            "  inflating: coco128/images/train2017/000000000034.jpg  \n",
            "  inflating: coco128/images/train2017/000000000544.jpg  \n",
            "  inflating: coco128/images/train2017/000000000395.jpg  \n",
            "  inflating: coco128/images/train2017/000000000626.jpg  \n",
            "  inflating: coco128/images/train2017/000000000154.jpg  \n",
            "  inflating: coco128/images/train2017/000000000142.jpg  \n",
            "  inflating: coco128/images/train2017/000000000368.jpg  \n",
            "  inflating: coco128/images/train2017/000000000397.jpg  \n",
            "  inflating: coco128/images/train2017/000000000208.jpg  \n",
            "  inflating: coco128/images/train2017/000000000036.jpg  \n",
            "  inflating: coco128/images/train2017/000000000584.jpg  \n",
            "  inflating: coco128/images/train2017/000000000590.jpg  \n",
            "  inflating: coco128/images/train2017/000000000382.jpg  \n",
            "  inflating: coco128/images/train2017/000000000194.jpg  \n",
            "  inflating: coco128/images/train2017/000000000625.jpg  \n",
            "  inflating: coco128/images/train2017/000000000143.jpg  \n",
            "  inflating: coco128/images/train2017/000000000581.jpg  \n",
            "  inflating: coco128/images/train2017/000000000595.jpg  \n",
            "  inflating: coco128/images/train2017/000000000542.jpg  \n",
            "  inflating: coco128/images/train2017/000000000387.jpg  \n",
            "  inflating: coco128/images/train2017/000000000436.jpg  \n",
            "  inflating: coco128/images/train2017/000000000634.jpg  \n",
            "  inflating: coco128/images/train2017/000000000620.jpg  \n",
            "  inflating: coco128/images/train2017/000000000636.jpg  \n",
            "  inflating: coco128/images/train2017/000000000144.jpg  \n",
            "  inflating: coco128/images/train2017/000000000540.jpg  \n",
            "  inflating: coco128/images/train2017/000000000597.jpg  \n",
            "  inflating: coco128/images/train2017/000000000030.jpg  \n",
            "  inflating: coco128/images/train2017/000000000025.jpg  \n",
            "  inflating: coco128/images/train2017/000000000569.jpg  \n",
            "  inflating: coco128/images/train2017/000000000384.jpg  \n",
            "  inflating: coco128/images/train2017/000000000192.jpg  \n",
            "  inflating: coco128/images/train2017/000000000623.jpg  \n",
            "  inflating: coco128/images/train2017/000000000151.jpg  \n",
            "   creating: coco128/labels/\n",
            "   creating: coco128/labels/train2017/\n",
            "  inflating: coco128/labels/train2017/000000000260.txt  \n",
            "  inflating: coco128/labels/train2017/000000000089.txt  \n",
            "  inflating: coco128/labels/train2017/000000000328.txt  \n",
            "  inflating: coco128/labels/train2017/000000000472.txt  \n",
            "  inflating: coco128/labels/train2017/000000000315.txt  \n",
            "  inflating: coco128/labels/train2017/000000000659.txt  \n",
            "  inflating: coco128/labels/train2017/000000000077.txt  \n",
            "  inflating: coco128/labels/train2017/000000000263.txt  \n",
            "  inflating: coco128/labels/train2017/000000000049.txt  \n",
            "  inflating: coco128/labels/train2017/000000000061.txt  \n",
            "  inflating: coco128/labels/train2017/000000000459.txt  \n",
            "  inflating: coco128/labels/train2017/000000000471.txt  \n",
            "  inflating: coco128/labels/train2017/000000000074.txt  \n",
            "  inflating: coco128/labels/train2017/000000000510.txt  \n",
            "  inflating: coco128/labels/train2017/000000000514.txt  \n",
            "  inflating: coco128/labels/train2017/000000000064.txt  \n",
            "  inflating: coco128/labels/train2017/000000000110.txt  \n",
            "  inflating: coco128/labels/train2017/000000000138.txt  \n",
            "  inflating: coco128/labels/train2017/000000000312.txt  \n",
            "  inflating: coco128/labels/train2017/000000000474.txt  \n",
            "  inflating: coco128/labels/train2017/000000000307.txt  \n",
            "  inflating: coco128/labels/train2017/000000000071.txt  \n",
            "  inflating: coco128/labels/train2017/000000000529.txt  \n",
            "  inflating: coco128/labels/train2017/000000000073.txt  \n",
            "  inflating: coco128/labels/train2017/000000000113.txt  \n",
            "  inflating: coco128/labels/train2017/000000000488.txt  \n",
            "  inflating: coco128/labels/train2017/000000000338.txt  \n",
            "  inflating: coco128/labels/train2017/000000000072.txt  \n",
            "  inflating: coco128/labels/train2017/000000000502.txt  \n",
            "  inflating: coco128/labels/train2017/000000000149.txt  \n",
            "  inflating: coco128/labels/train2017/000000000389.txt  \n",
            "  inflating: coco128/labels/train2017/000000000404.txt  \n",
            "  inflating: coco128/labels/train2017/000000000438.txt  \n",
            "  inflating: coco128/labels/train2017/000000000612.txt  \n",
            "  inflating: coco128/labels/train2017/000000000564.txt  \n",
            "  inflating: coco128/labels/train2017/000000000572.txt  \n",
            "  inflating: coco128/labels/train2017/000000000599.txt  \n",
            "  inflating: coco128/labels/train2017/000000000360.txt  \n",
            "  inflating: coco128/labels/train2017/000000000349.txt  \n",
            "  inflating: coco128/labels/train2017/000000000605.txt  \n",
            "  inflating: coco128/labels/train2017/000000000201.txt  \n",
            "  inflating: coco128/labels/train2017/000000000629.txt  \n",
            "  inflating: coco128/labels/train2017/000000000359.txt  \n",
            "  inflating: coco128/labels/train2017/000000000370.txt  \n",
            "  inflating: coco128/labels/train2017/000000000589.txt  \n",
            "  inflating: coco128/labels/train2017/000000000562.txt  \n",
            "  inflating: coco128/labels/train2017/000000000560.txt  \n",
            "  inflating: coco128/labels/train2017/000000000164.txt  \n",
            "  inflating: coco128/labels/train2017/000000000400.txt  \n",
            "  inflating: coco128/labels/train2017/000000000428.txt  \n",
            "  inflating: coco128/labels/train2017/000000000415.txt  \n",
            "  inflating: coco128/labels/train2017/000000000165.txt  \n",
            "  inflating: coco128/labels/train2017/000000000575.txt  \n",
            "  inflating: coco128/labels/train2017/000000000544.txt  \n",
            "  inflating: coco128/labels/train2017/000000000034.txt  \n",
            "  inflating: coco128/labels/train2017/000000000626.txt  \n",
            "  inflating: coco128/labels/train2017/000000000154.txt  \n",
            "  inflating: coco128/labels/train2017/000000000395.txt  \n",
            "  inflating: coco128/labels/train2017/000000000394.txt  \n",
            "  inflating: coco128/labels/train2017/000000000431.txt  \n",
            "  inflating: coco128/labels/train2017/000000000357.txt  \n",
            "  inflating: coco128/labels/train2017/000000000419.txt  \n",
            "  inflating: coco128/labels/train2017/000000000196.txt  \n",
            "  inflating: coco128/labels/train2017/000000000009.txt  \n",
            "  inflating: coco128/labels/train2017/000000000584.txt  \n",
            "  inflating: coco128/labels/train2017/000000000590.txt  \n",
            "  inflating: coco128/labels/train2017/000000000143.txt  \n",
            "  inflating: coco128/labels/train2017/000000000625.txt  \n",
            "  inflating: coco128/labels/train2017/000000000194.txt  \n",
            "  inflating: coco128/labels/train2017/000000000382.txt  \n",
            "  inflating: coco128/labels/train2017/000000000397.txt  \n",
            "  inflating: coco128/labels/train2017/000000000368.txt  \n",
            "  inflating: coco128/labels/train2017/000000000142.txt  \n",
            "  inflating: coco128/labels/train2017/000000000036.txt  \n",
            "  inflating: coco128/labels/train2017/000000000208.txt  \n",
            "  inflating: coco128/labels/train2017/000000000542.txt  \n",
            "  inflating: coco128/labels/train2017/000000000581.txt  \n",
            "  inflating: coco128/labels/train2017/000000000595.txt  \n",
            "  inflating: coco128/labels/train2017/000000000634.txt  \n",
            "  inflating: coco128/labels/train2017/000000000620.txt  \n",
            "  inflating: coco128/labels/train2017/000000000436.txt  \n",
            "  inflating: coco128/labels/train2017/000000000387.txt  \n",
            "  inflating: coco128/labels/train2017/000000000569.txt  \n",
            "  inflating: coco128/labels/train2017/000000000025.txt  \n",
            "  inflating: coco128/labels/train2017/000000000623.txt  \n",
            "  inflating: coco128/labels/train2017/000000000151.txt  \n",
            "  inflating: coco128/labels/train2017/000000000192.txt  \n",
            "  inflating: coco128/labels/train2017/000000000384.txt  \n",
            "  inflating: coco128/labels/train2017/000000000636.txt  \n",
            "  inflating: coco128/labels/train2017/000000000144.txt  \n",
            "  inflating: coco128/labels/train2017/000000000030.txt  \n",
            "  inflating: coco128/labels/train2017/000000000597.txt  \n",
            "  inflating: coco128/labels/train2017/000000000540.txt  \n",
            "  inflating: coco128/labels/train2017/000000000241.txt  \n",
            "  inflating: coco128/labels/train2017/000000000094.txt  \n",
            "  inflating: coco128/labels/train2017/000000000309.txt  \n",
            "  inflating: coco128/labels/train2017/000000000321.txt  \n",
            "  inflating: coco128/labels/train2017/000000000490.txt  \n",
            "  inflating: coco128/labels/train2017/000000000491.txt  \n",
            "  inflating: coco128/labels/train2017/000000000446.txt  \n",
            "  inflating: coco128/labels/train2017/000000000308.txt  \n",
            "  inflating: coco128/labels/train2017/000000000650.txt  \n",
            "  inflating: coco128/labels/train2017/000000000136.txt  \n",
            "  inflating: coco128/labels/train2017/000000000081.txt  \n",
            "  inflating: coco128/labels/train2017/000000000042.txt  \n",
            "  inflating: coco128/labels/train2017/000000000283.txt  \n",
            "  inflating: coco128/labels/train2017/000000000532.txt  \n",
            "  inflating: coco128/labels/train2017/000000000450.txt  \n",
            "  inflating: coco128/labels/train2017/000000000322.txt  \n",
            "  inflating: coco128/labels/train2017/000000000486.txt  \n",
            "  inflating: coco128/labels/train2017/000000000109.txt  \n",
            "  inflating: coco128/labels/train2017/000000000294.txt  \n",
            "  inflating: coco128/labels/train2017/000000000257.txt  \n",
            "  inflating: coco128/labels/train2017/000000000531.txt  \n",
            "  inflating: coco128/labels/train2017/000000000247.txt  \n",
            "  inflating: coco128/labels/train2017/000000000086.txt  \n",
            "  inflating: coco128/labels/train2017/000000000092.txt  \n",
            "  inflating: coco128/labels/train2017/000000000643.txt  \n",
            "  inflating: coco128/labels/train2017/000000000326.txt  \n",
            "  inflating: coco128/labels/train2017/000000000332.txt  \n",
            "  inflating: coco128/labels/train2017/000000000656.txt  \n",
            "  inflating: coco128/labels/train2017/000000000078.txt  \n",
            "  inflating: coco128/labels/train2017/000000000520.txt  \n",
            "  inflating: coco128/labels/train2017/000000000536.txt  \n",
            "  inflating: coco128/labels/train2017/000000000443.txt  \n",
            "  inflating: coco128/labels/train2017/000000000133.txt  \n",
            "  inflating: coco128/labels/train2017/000000000641.txt  \n",
            "  inflating: coco128/labels/train2017/000000000127.txt  \n",
            "  inflating: coco128/README.txt      \n"
          ]
        }
      ]
    },
    {
      "cell_type": "code",
      "source": [
        "from ultralytics import YOLO\n",
        "\n",
        "# Load a COCO-pretrained YOLO12n model\n",
        "model = YOLO(\"yolo12n.pt\")\n",
        "\n",
        "\n",
        "\n",
        "# Run inference with the YOLO12n model on the 'bus.jpg' image\n",
        "results = model.train(data=\"coco128.yaml\", epochs=10, imgsz=640)"
      ],
      "metadata": {
        "colab": {
          "base_uri": "https://localhost:8080/"
        },
        "id": "s-U0klRZUzIY",
        "outputId": "0c724500-4725-4634-8063-c2785ca255a5",
        "collapsed": true
      },
      "execution_count": 4,
      "outputs": [
        {
          "output_type": "stream",
          "name": "stdout",
          "text": [
            "Creating new Ultralytics Settings v0.0.6 file ✅ \n",
            "View Ultralytics Settings with 'yolo settings' or at '/root/.config/Ultralytics/settings.json'\n",
            "Update Settings with 'yolo settings key=value', i.e. 'yolo settings runs_dir=path/to/dir'. For help see https://docs.ultralytics.com/quickstart/#ultralytics-settings.\n"
          ]
        },
        {
          "output_type": "stream",
          "name": "stderr",
          "text": [
            "Downloading https://github.com/ultralytics/assets/releases/download/v8.3.0/yolo12n.pt to 'yolo12n.pt': 100%|██████████| 5.34M/5.34M [00:00<00:00, 92.3MB/s]\n"
          ]
        },
        {
          "output_type": "stream",
          "name": "stdout",
          "text": [
            "Ultralytics 8.3.181 🚀 Python-3.11.13 torch-2.6.0+cu124 CUDA:0 (Tesla T4, 15095MiB)\n",
            "\u001b[34m\u001b[1mengine/trainer: \u001b[0magnostic_nms=False, amp=True, augment=False, auto_augment=randaugment, batch=16, bgr=0.0, box=7.5, cache=False, cfg=None, classes=None, close_mosaic=10, cls=0.5, conf=None, copy_paste=0.0, copy_paste_mode=flip, cos_lr=False, cutmix=0.0, data=coco128.yaml, degrees=0.0, deterministic=True, device=None, dfl=1.5, dnn=False, dropout=0.0, dynamic=False, embed=None, epochs=10, erasing=0.4, exist_ok=False, fliplr=0.5, flipud=0.0, format=torchscript, fraction=1.0, freeze=None, half=False, hsv_h=0.015, hsv_s=0.7, hsv_v=0.4, imgsz=640, int8=False, iou=0.7, keras=False, kobj=1.0, line_width=None, lr0=0.01, lrf=0.01, mask_ratio=4, max_det=300, mixup=0.0, mode=train, model=yolo12n.pt, momentum=0.937, mosaic=1.0, multi_scale=False, name=train, nbs=64, nms=False, opset=None, optimize=False, optimizer=auto, overlap_mask=True, patience=100, perspective=0.0, plots=True, pose=12.0, pretrained=True, profile=False, project=None, rect=False, resume=False, retina_masks=False, save=True, save_conf=False, save_crop=False, save_dir=runs/detect/train, save_frames=False, save_json=False, save_period=-1, save_txt=False, scale=0.5, seed=0, shear=0.0, show=False, show_boxes=True, show_conf=True, show_labels=True, simplify=True, single_cls=False, source=None, split=val, stream_buffer=False, task=detect, time=None, tracker=botsort.yaml, translate=0.1, val=True, verbose=True, vid_stride=1, visualize=False, warmup_bias_lr=0.1, warmup_epochs=3.0, warmup_momentum=0.8, weight_decay=0.0005, workers=8, workspace=None\n"
          ]
        },
        {
          "output_type": "stream",
          "name": "stderr",
          "text": [
            "Downloading https://ultralytics.com/assets/Arial.ttf to '/root/.config/Ultralytics/Arial.ttf': 100%|██████████| 755k/755k [00:00<00:00, 26.0MB/s]"
          ]
        },
        {
          "output_type": "stream",
          "name": "stdout",
          "text": [
            "\n",
            "                   from  n    params  module                                       arguments                     \n",
            "  0                  -1  1       464  ultralytics.nn.modules.conv.Conv             [3, 16, 3, 2]                 \n",
            "  1                  -1  1      4672  ultralytics.nn.modules.conv.Conv             [16, 32, 3, 2]                \n",
            "  2                  -1  1      6640  ultralytics.nn.modules.block.C3k2            [32, 64, 1, False, 0.25]      \n",
            "  3                  -1  1     36992  ultralytics.nn.modules.conv.Conv             [64, 64, 3, 2]                \n",
            "  4                  -1  1     26080  ultralytics.nn.modules.block.C3k2            [64, 128, 1, False, 0.25]     \n",
            "  5                  -1  1    147712  ultralytics.nn.modules.conv.Conv             [128, 128, 3, 2]              \n",
            "  6                  -1  2    180864  ultralytics.nn.modules.block.A2C2f           [128, 128, 2, True, 4]        \n",
            "  7                  -1  1    295424  ultralytics.nn.modules.conv.Conv             [128, 256, 3, 2]              \n",
            "  8                  -1  2    689408  ultralytics.nn.modules.block.A2C2f           [256, 256, 2, True, 1]        \n",
            "  9                  -1  1         0  torch.nn.modules.upsampling.Upsample         [None, 2, 'nearest']          \n",
            " 10             [-1, 6]  1         0  ultralytics.nn.modules.conv.Concat           [1]                           \n",
            " 11                  -1  1     86912  ultralytics.nn.modules.block.A2C2f           [384, 128, 1, False, -1]      \n",
            " 12                  -1  1         0  torch.nn.modules.upsampling.Upsample         [None, 2, 'nearest']          \n",
            " 13             [-1, 4]  1         0  ultralytics.nn.modules.conv.Concat           [1]                           \n",
            " 14                  -1  1     24000  ultralytics.nn.modules.block.A2C2f           [256, 64, 1, False, -1]       \n",
            " 15                  -1  1     36992  ultralytics.nn.modules.conv.Conv             [64, 64, 3, 2]                \n",
            " 16            [-1, 11]  1         0  ultralytics.nn.modules.conv.Concat           [1]                           \n",
            " 17                  -1  1     74624  ultralytics.nn.modules.block.A2C2f           [192, 128, 1, False, -1]      \n",
            " 18                  -1  1    147712  ultralytics.nn.modules.conv.Conv             [128, 128, 3, 2]              \n",
            " 19             [-1, 8]  1         0  ultralytics.nn.modules.conv.Concat           [1]                           \n",
            " 20                  -1  1    378880  ultralytics.nn.modules.block.C3k2            [384, 256, 1, True]           \n"
          ]
        },
        {
          "output_type": "stream",
          "name": "stderr",
          "text": [
            "\n"
          ]
        },
        {
          "output_type": "stream",
          "name": "stdout",
          "text": [
            " 21        [14, 17, 20]  1    464912  ultralytics.nn.modules.head.Detect           [80, [64, 128, 256]]          \n",
            "YOLOv12n summary: 272 layers, 2,602,288 parameters, 2,602,272 gradients, 6.7 GFLOPs\n",
            "\n",
            "Transferred 691/691 items from pretrained weights\n",
            "Freezing layer 'model.21.dfl.conv.weight'\n",
            "\u001b[34m\u001b[1mAMP: \u001b[0mrunning Automatic Mixed Precision (AMP) checks...\n"
          ]
        },
        {
          "output_type": "stream",
          "name": "stderr",
          "text": [
            "Downloading https://github.com/ultralytics/assets/releases/download/v8.3.0/yolo11n.pt to 'yolo11n.pt': 100%|██████████| 5.35M/5.35M [00:00<00:00, 67.6MB/s]\n"
          ]
        },
        {
          "output_type": "stream",
          "name": "stdout",
          "text": [
            "\u001b[34m\u001b[1mAMP: \u001b[0mchecks passed ✅\n",
            "\u001b[34m\u001b[1mtrain: \u001b[0mFast image access ✅ (ping: 0.0±0.0 ms, read: 932.6±383.5 MB/s, size: 50.9 KB)\n"
          ]
        },
        {
          "output_type": "stream",
          "name": "stderr",
          "text": [
            "\u001b[34m\u001b[1mtrain: \u001b[0mScanning /content/coco128/labels/train2017... 126 images, 2 backgrounds, 0 corrupt: 100%|██████████| 128/128 [00:00<00:00, 2631.93it/s]"
          ]
        },
        {
          "output_type": "stream",
          "name": "stdout",
          "text": [
            "\u001b[34m\u001b[1mtrain: \u001b[0mNew cache created: /content/coco128/labels/train2017.cache\n"
          ]
        },
        {
          "output_type": "stream",
          "name": "stderr",
          "text": [
            "\n"
          ]
        },
        {
          "output_type": "stream",
          "name": "stdout",
          "text": [
            "\u001b[34m\u001b[1malbumentations: \u001b[0mBlur(p=0.01, blur_limit=(3, 7)), MedianBlur(p=0.01, blur_limit=(3, 7)), ToGray(p=0.01, method='weighted_average', num_output_channels=3), CLAHE(p=0.01, clip_limit=(1.0, 4.0), tile_grid_size=(8, 8))\n",
            "\u001b[34m\u001b[1mval: \u001b[0mFast image access ✅ (ping: 0.0±0.0 ms, read: 431.2±86.7 MB/s, size: 52.5 KB)\n"
          ]
        },
        {
          "output_type": "stream",
          "name": "stderr",
          "text": [
            "\u001b[34m\u001b[1mval: \u001b[0mScanning /content/coco128/labels/train2017.cache... 126 images, 2 backgrounds, 0 corrupt: 100%|██████████| 128/128 [00:00<?, ?it/s]\n"
          ]
        },
        {
          "output_type": "stream",
          "name": "stdout",
          "text": [
            "Plotting labels to runs/detect/train/labels.jpg... \n",
            "\u001b[34m\u001b[1moptimizer:\u001b[0m 'optimizer=auto' found, ignoring 'lr0=0.01' and 'momentum=0.937' and determining best 'optimizer', 'lr0' and 'momentum' automatically... \n",
            "\u001b[34m\u001b[1moptimizer:\u001b[0m AdamW(lr=0.000119, momentum=0.9) with parameter groups 113 weight(decay=0.0), 120 weight(decay=0.0005), 119 bias(decay=0.0)\n",
            "Image sizes 640 train, 640 val\n",
            "Using 2 dataloader workers\n",
            "Logging results to \u001b[1mruns/detect/train\u001b[0m\n",
            "Starting training for 10 epochs...\n",
            "Closing dataloader mosaic\n",
            "\u001b[34m\u001b[1malbumentations: \u001b[0mBlur(p=0.01, blur_limit=(3, 7)), MedianBlur(p=0.01, blur_limit=(3, 7)), ToGray(p=0.01, method='weighted_average', num_output_channels=3), CLAHE(p=0.01, clip_limit=(1.0, 4.0), tile_grid_size=(8, 8))\n",
            "\n",
            "      Epoch    GPU_mem   box_loss   cls_loss   dfl_loss  Instances       Size\n"
          ]
        },
        {
          "output_type": "stream",
          "name": "stderr",
          "text": [
            "       1/10      3.46G       1.09      1.124      1.156         83        640: 100%|██████████| 8/8 [00:05<00:00,  1.56it/s]\n",
            "                 Class     Images  Instances      Box(P          R      mAP50  mAP50-95): 100%|██████████| 4/4 [00:02<00:00,  1.70it/s]"
          ]
        },
        {
          "output_type": "stream",
          "name": "stdout",
          "text": [
            "                   all        128        929      0.543      0.266      0.305      0.216\n"
          ]
        },
        {
          "output_type": "stream",
          "name": "stderr",
          "text": [
            "\n"
          ]
        },
        {
          "output_type": "stream",
          "name": "stdout",
          "text": [
            "\n",
            "      Epoch    GPU_mem   box_loss   cls_loss   dfl_loss  Instances       Size\n"
          ]
        },
        {
          "output_type": "stream",
          "name": "stderr",
          "text": [
            "       2/10      4.85G      1.087      1.089      1.164        120        640: 100%|██████████| 8/8 [00:03<00:00,  2.03it/s]\n",
            "                 Class     Images  Instances      Box(P          R      mAP50  mAP50-95): 100%|██████████| 4/4 [00:01<00:00,  2.99it/s]"
          ]
        },
        {
          "output_type": "stream",
          "name": "stdout",
          "text": [
            "                   all        128        929      0.549       0.44      0.478      0.347\n"
          ]
        },
        {
          "output_type": "stream",
          "name": "stderr",
          "text": [
            "\n"
          ]
        },
        {
          "output_type": "stream",
          "name": "stdout",
          "text": [
            "\n",
            "      Epoch    GPU_mem   box_loss   cls_loss   dfl_loss  Instances       Size\n"
          ]
        },
        {
          "output_type": "stream",
          "name": "stderr",
          "text": [
            "       3/10      4.88G      1.098      1.037      1.151        115        640: 100%|██████████| 8/8 [00:02<00:00,  3.57it/s]\n",
            "                 Class     Images  Instances      Box(P          R      mAP50  mAP50-95): 100%|██████████| 4/4 [00:01<00:00,  3.81it/s]"
          ]
        },
        {
          "output_type": "stream",
          "name": "stdout",
          "text": [
            "                   all        128        929      0.597      0.549      0.589      0.442\n"
          ]
        },
        {
          "output_type": "stream",
          "name": "stderr",
          "text": [
            "\n"
          ]
        },
        {
          "output_type": "stream",
          "name": "stdout",
          "text": [
            "\n",
            "      Epoch    GPU_mem   box_loss   cls_loss   dfl_loss  Instances       Size\n"
          ]
        },
        {
          "output_type": "stream",
          "name": "stderr",
          "text": [
            "       4/10      4.89G      1.079      1.038      1.156        116        640: 100%|██████████| 8/8 [00:02<00:00,  3.20it/s]\n",
            "                 Class     Images  Instances      Box(P          R      mAP50  mAP50-95): 100%|██████████| 4/4 [00:01<00:00,  3.90it/s]"
          ]
        },
        {
          "output_type": "stream",
          "name": "stdout",
          "text": [
            "                   all        128        929      0.667      0.596      0.666      0.513\n"
          ]
        },
        {
          "output_type": "stream",
          "name": "stderr",
          "text": [
            "\n"
          ]
        },
        {
          "output_type": "stream",
          "name": "stdout",
          "text": [
            "\n",
            "      Epoch    GPU_mem   box_loss   cls_loss   dfl_loss  Instances       Size\n"
          ]
        },
        {
          "output_type": "stream",
          "name": "stderr",
          "text": [
            "       5/10      4.89G      1.059     0.9924       1.16         68        640: 100%|██████████| 8/8 [00:02<00:00,  3.09it/s]\n",
            "                 Class     Images  Instances      Box(P          R      mAP50  mAP50-95): 100%|██████████| 4/4 [00:01<00:00,  2.93it/s]"
          ]
        },
        {
          "output_type": "stream",
          "name": "stdout",
          "text": [
            "                   all        128        929      0.785      0.617      0.703      0.544\n"
          ]
        },
        {
          "output_type": "stream",
          "name": "stderr",
          "text": [
            "\n"
          ]
        },
        {
          "output_type": "stream",
          "name": "stdout",
          "text": [
            "\n",
            "      Epoch    GPU_mem   box_loss   cls_loss   dfl_loss  Instances       Size\n"
          ]
        },
        {
          "output_type": "stream",
          "name": "stderr",
          "text": [
            "       6/10      4.91G      1.035      0.942       1.12         92        640: 100%|██████████| 8/8 [00:02<00:00,  2.96it/s]\n",
            "                 Class     Images  Instances      Box(P          R      mAP50  mAP50-95): 100%|██████████| 4/4 [00:01<00:00,  3.89it/s]"
          ]
        },
        {
          "output_type": "stream",
          "name": "stdout",
          "text": [
            "                   all        128        929      0.839      0.609       0.72      0.559\n"
          ]
        },
        {
          "output_type": "stream",
          "name": "stderr",
          "text": [
            "\n"
          ]
        },
        {
          "output_type": "stream",
          "name": "stdout",
          "text": [
            "\n",
            "      Epoch    GPU_mem   box_loss   cls_loss   dfl_loss  Instances       Size\n"
          ]
        },
        {
          "output_type": "stream",
          "name": "stderr",
          "text": [
            "       7/10      4.92G      1.045     0.9209      1.144        117        640: 100%|██████████| 8/8 [00:02<00:00,  3.73it/s]\n",
            "                 Class     Images  Instances      Box(P          R      mAP50  mAP50-95): 100%|██████████| 4/4 [00:01<00:00,  3.95it/s]"
          ]
        },
        {
          "output_type": "stream",
          "name": "stdout",
          "text": [
            "                   all        128        929      0.836      0.627       0.73      0.574\n"
          ]
        },
        {
          "output_type": "stream",
          "name": "stderr",
          "text": [
            "\n"
          ]
        },
        {
          "output_type": "stream",
          "name": "stdout",
          "text": [
            "\n",
            "      Epoch    GPU_mem   box_loss   cls_loss   dfl_loss  Instances       Size\n"
          ]
        },
        {
          "output_type": "stream",
          "name": "stderr",
          "text": [
            "       8/10      4.93G      1.012     0.8838      1.116         66        640: 100%|██████████| 8/8 [00:02<00:00,  3.16it/s]\n",
            "                 Class     Images  Instances      Box(P          R      mAP50  mAP50-95): 100%|██████████| 4/4 [00:01<00:00,  2.72it/s]"
          ]
        },
        {
          "output_type": "stream",
          "name": "stdout",
          "text": [
            "                   all        128        929      0.814      0.653      0.738      0.583\n"
          ]
        },
        {
          "output_type": "stream",
          "name": "stderr",
          "text": [
            "\n"
          ]
        },
        {
          "output_type": "stream",
          "name": "stdout",
          "text": [
            "\n",
            "      Epoch    GPU_mem   box_loss   cls_loss   dfl_loss  Instances       Size\n"
          ]
        },
        {
          "output_type": "stream",
          "name": "stderr",
          "text": [
            "       9/10      4.93G      1.029     0.9053      1.121        147        640: 100%|██████████| 8/8 [00:02<00:00,  3.57it/s]\n",
            "                 Class     Images  Instances      Box(P          R      mAP50  mAP50-95): 100%|██████████| 4/4 [00:01<00:00,  3.77it/s]"
          ]
        },
        {
          "output_type": "stream",
          "name": "stdout",
          "text": [
            "                   all        128        929      0.833       0.65      0.741      0.588\n"
          ]
        },
        {
          "output_type": "stream",
          "name": "stderr",
          "text": [
            "\n"
          ]
        },
        {
          "output_type": "stream",
          "name": "stdout",
          "text": [
            "\n",
            "      Epoch    GPU_mem   box_loss   cls_loss   dfl_loss  Instances       Size\n"
          ]
        },
        {
          "output_type": "stream",
          "name": "stderr",
          "text": [
            "      10/10      4.93G       1.02     0.8614      1.112        111        640: 100%|██████████| 8/8 [00:02<00:00,  3.77it/s]\n",
            "                 Class     Images  Instances      Box(P          R      mAP50  mAP50-95): 100%|██████████| 4/4 [00:01<00:00,  3.91it/s]"
          ]
        },
        {
          "output_type": "stream",
          "name": "stdout",
          "text": [
            "                   all        128        929      0.842       0.65      0.743      0.589\n"
          ]
        },
        {
          "output_type": "stream",
          "name": "stderr",
          "text": [
            "\n"
          ]
        },
        {
          "output_type": "stream",
          "name": "stdout",
          "text": [
            "\n",
            "10 epochs completed in 0.013 hours.\n",
            "Optimizer stripped from runs/detect/train/weights/last.pt, 5.6MB\n",
            "Optimizer stripped from runs/detect/train/weights/best.pt, 5.6MB\n",
            "\n",
            "Validating runs/detect/train/weights/best.pt...\n",
            "Ultralytics 8.3.181 🚀 Python-3.11.13 torch-2.6.0+cu124 CUDA:0 (Tesla T4, 15095MiB)\n",
            "YOLOv12n summary (fused): 159 layers, 2,590,824 parameters, 0 gradients, 6.5 GFLOPs\n"
          ]
        },
        {
          "output_type": "stream",
          "name": "stderr",
          "text": [
            "                 Class     Images  Instances      Box(P          R      mAP50  mAP50-95): 100%|██████████| 4/4 [00:02<00:00,  1.42it/s]\n"
          ]
        },
        {
          "output_type": "stream",
          "name": "stdout",
          "text": [
            "                   all        128        929      0.843       0.65      0.743      0.589\n",
            "                person         61        254      0.955      0.581        0.8      0.582\n",
            "               bicycle          3          6      0.817      0.333       0.45      0.338\n",
            "                   car         12         46      0.777      0.196      0.316      0.197\n",
            "            motorcycle          4          5      0.818        0.8      0.962      0.761\n",
            "              airplane          5          6      0.923          1      0.995      0.934\n",
            "                   bus          5          7      0.905      0.714      0.746      0.633\n",
            "                 train          3          3      0.689          1      0.995      0.841\n",
            "                 truck          5         12          1      0.392      0.536      0.336\n",
            "                  boat          2          6          1      0.464      0.783      0.549\n",
            "         traffic light          4         14          1      0.247      0.347      0.184\n",
            "             stop sign          2          2      0.782          1      0.995      0.846\n",
            "                 bench          5          9      0.682      0.333      0.595      0.478\n",
            "                  bird          2         16      0.988          1      0.995      0.691\n",
            "                   cat          4          4      0.768          1      0.995       0.92\n",
            "                   dog          9          9      0.944      0.889      0.961      0.814\n",
            "                 horse          1          2      0.893          1      0.995      0.673\n",
            "              elephant          4         17      0.968      0.941      0.947      0.797\n",
            "                  bear          1          1      0.722          1      0.995      0.895\n",
            "                 zebra          2          4      0.897          1      0.995      0.995\n",
            "               giraffe          4          9       0.89          1      0.995      0.818\n",
            "              backpack          4          6      0.879      0.333      0.378      0.221\n",
            "              umbrella          4         18      0.651      0.518       0.78       0.55\n",
            "               handbag          9         19      0.783      0.192      0.281      0.192\n",
            "                   tie          6          7          1      0.635      0.823      0.616\n",
            "              suitcase          2          4          1      0.981      0.995      0.713\n",
            "               frisbee          5          5      0.774        0.8      0.801      0.741\n",
            "                  skis          1          1      0.907          1      0.995      0.697\n",
            "             snowboard          2          7          1      0.778      0.894      0.744\n",
            "           sports ball          6          6          1      0.324      0.499      0.317\n",
            "                  kite          2         10      0.783      0.365      0.496      0.212\n",
            "          baseball bat          4          4          0          0      0.112     0.0529\n",
            "        baseball glove          4          7      0.927      0.429      0.433      0.243\n",
            "            skateboard          3          5       0.84        0.6      0.631      0.456\n",
            "         tennis racket          5          7      0.747      0.286      0.599       0.39\n",
            "                bottle          6         18      0.537      0.222      0.467      0.313\n",
            "            wine glass          5         16      0.894      0.531      0.783      0.452\n",
            "                   cup         10         36      0.892      0.333      0.592      0.421\n",
            "                  fork          6          6      0.678      0.167      0.324      0.283\n",
            "                 knife          7         16      0.909      0.438      0.624      0.436\n",
            "                 spoon          5         22      0.838      0.273      0.504      0.325\n",
            "                  bowl          9         28      0.956      0.773      0.796      0.674\n",
            "                banana          1          1      0.702          1      0.995      0.995\n",
            "              sandwich          2          2      0.597          1      0.995      0.995\n",
            "                orange          1          4      0.688          1      0.945      0.669\n",
            "              broccoli          4         11          1      0.271      0.461      0.357\n",
            "                carrot          3         24      0.817      0.558      0.735       0.51\n",
            "               hot dog          1          2       0.78          1      0.995      0.995\n",
            "                 pizza          5          5      0.975          1      0.995      0.887\n",
            "                 donut          2         14      0.705      0.929      0.965      0.893\n",
            "                  cake          4          4      0.883          1      0.995      0.902\n",
            "                 chair          9         35          1      0.171       0.63      0.414\n",
            "                 couch          5          6      0.983      0.833      0.915      0.708\n",
            "          potted plant          9         14      0.923      0.851      0.878      0.603\n",
            "                   bed          3          3      0.776          1      0.995      0.731\n",
            "          dining table         10         13      0.869      0.512      0.734      0.585\n",
            "                toilet          2          2          1       0.93      0.995      0.896\n",
            "                    tv          2          2      0.714          1      0.995      0.846\n",
            "                laptop          2          3      0.921      0.667      0.913      0.806\n",
            "                 mouse          2          2          1          0          0          0\n",
            "                remote          5          8      0.823        0.5      0.609       0.53\n",
            "            cell phone          5          8      0.632      0.224      0.401      0.255\n",
            "             microwave          3          3      0.986          1      0.995      0.864\n",
            "                  oven          5          5      0.702        0.6        0.6      0.453\n",
            "                  sink          4          6          1      0.621      0.669      0.436\n",
            "          refrigerator          5          5      0.801          1      0.962      0.791\n",
            "                  book          6         29      0.798      0.136       0.41      0.195\n",
            "                 clock          8          9          1      0.832      0.889      0.786\n",
            "                  vase          2          2      0.752          1      0.995      0.895\n",
            "              scissors          1          1          1          0     0.0663    0.00663\n",
            "            teddy bear          6         21      0.815      0.628      0.806      0.609\n",
            "            toothbrush          2          5      0.816          1      0.995      0.872\n",
            "Speed: 0.4ms preprocess, 3.7ms inference, 0.0ms loss, 6.7ms postprocess per image\n",
            "Results saved to \u001b[1mruns/detect/train\u001b[0m\n"
          ]
        }
      ]
    },
    {
      "cell_type": "markdown",
      "source": [
        "\n",
        "results2 = model('images.jpeg', save=True)\n",
        "results3 = model('indir(1).jpeg', save=True)\n"
      ],
      "metadata": {
        "id": "Hm4srpGmairv"
      }
    }
  ]
}
